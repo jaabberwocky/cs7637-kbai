{
 "metadata": {
  "language_info": {
   "codemirror_mode": {
    "name": "ipython",
    "version": 3
   },
   "file_extension": ".py",
   "mimetype": "text/x-python",
   "name": "python",
   "nbconvert_exporter": "python",
   "pygments_lexer": "ipython3",
   "version": "3.8.5-final"
  },
  "orig_nbformat": 2,
  "kernelspec": {
   "name": "python3",
   "display_name": "Python 3",
   "language": "python"
  }
 },
 "nbformat": 4,
 "nbformat_minor": 2,
 "cells": [
  {
   "cell_type": "code",
   "execution_count": 1,
   "metadata": {},
   "outputs": [],
   "source": [
    "from PIL import Image"
   ]
  },
  {
   "cell_type": "code",
   "execution_count": 2,
   "metadata": {},
   "outputs": [
    {
     "output_type": "stream",
     "name": "stdout",
     "text": [
      "/home/tobias/Code/RPM-Project-Code/Misc\n"
     ]
    }
   ],
   "source": [
    "import os\n",
    "print(os.getcwd())"
   ]
  },
  {
   "cell_type": "code",
   "execution_count": 3,
   "metadata": {},
   "outputs": [],
   "source": [
    "im = Image.open(\"../Problems/Basic Problems B/Basic Problem B-01/1.png\")"
   ]
  },
  {
   "cell_type": "code",
   "execution_count": 4,
   "metadata": {},
   "outputs": [
    {
     "output_type": "stream",
     "name": "stdout",
     "text": [
      "PNG (184, 184) RGBA\n"
     ]
    }
   ],
   "source": [
    "# print out basic instance attributes\n",
    "print(im.format, im.size, im.mode)"
   ]
  },
  {
   "cell_type": "code",
   "execution_count": 6,
   "metadata": {},
   "outputs": [],
   "source": [
    "im.show()"
   ]
  },
  {
   "source": [
    "# Reading and writing image files"
   ],
   "cell_type": "markdown",
   "metadata": {}
  },
  {
   "cell_type": "code",
   "execution_count": 12,
   "metadata": {},
   "outputs": [],
   "source": [
    "# convert files to JPEG\n",
    "# note that JPEG does not support the Alpha (transparency) value\n",
    "rgb_im = im.convert('RGB') \n",
    "rgb_im.save(\"example.jpg\")"
   ]
  },
  {
   "cell_type": "code",
   "execution_count": 14,
   "metadata": {},
   "outputs": [],
   "source": [
    "# create JPEG thumbnails\n",
    "rgb_im.thumbnail((128,128))\n",
    "rgb_im.save(\"example.jpg\")"
   ]
  },
  {
   "source": [
    "# Converting to Numpy Array and Back"
   ],
   "cell_type": "markdown",
   "metadata": {}
  },
  {
   "cell_type": "code",
   "execution_count": 24,
   "metadata": {},
   "outputs": [],
   "source": [
    "from numpy import asarray"
   ]
  },
  {
   "cell_type": "code",
   "execution_count": 16,
   "metadata": {},
   "outputs": [
    {
     "output_type": "stream",
     "name": "stdout",
     "text": [
      "<class 'numpy.ndarray'>\n"
     ]
    }
   ],
   "source": [
    "im_array = asarray(rgb_im)\n",
    "print(type(im_array))"
   ]
  },
  {
   "cell_type": "code",
   "execution_count": 17,
   "metadata": {},
   "outputs": [
    {
     "output_type": "stream",
     "name": "stdout",
     "text": [
      "[[[255 255 255]\n  [255 255 255]\n  [255 255 255]\n  ...\n  [255 255 255]\n  [255 255 255]\n  [255 255 255]]\n\n [[255 255 255]\n  [255 255 255]\n  [255 255 255]\n  ...\n  [255 255 255]\n  [255 255 255]\n  [255 255 255]]\n\n [[255 255 255]\n  [255 255 255]\n  [255 255 255]\n  ...\n  [255 255 255]\n  [255 255 255]\n  [255 255 255]]\n\n ...\n\n [[255 255 255]\n  [255 255 255]\n  [255 255 255]\n  ...\n  [255 255 255]\n  [255 255 255]\n  [255 255 255]]\n\n [[255 255 255]\n  [255 255 255]\n  [255 255 255]\n  ...\n  [255 255 255]\n  [255 255 255]\n  [255 255 255]]\n\n [[255 255 255]\n  [255 255 255]\n  [255 255 255]\n  ...\n  [255 255 255]\n  [255 255 255]\n  [255 255 255]]]\n"
     ]
    }
   ],
   "source": [
    "print(im_array) # mostly white cells so you get alot of (255,255,255) values"
   ]
  },
  {
   "cell_type": "code",
   "execution_count": 18,
   "metadata": {},
   "outputs": [],
   "source": [
    "# load another image\n",
    "koala = Image.open(\"koala.jpeg\")\n",
    "koala.show()"
   ]
  },
  {
   "cell_type": "code",
   "execution_count": 19,
   "metadata": {},
   "outputs": [
    {
     "output_type": "stream",
     "name": "stdout",
     "text": [
      "<class 'numpy.ndarray'>\n"
     ]
    }
   ],
   "source": [
    "koala_array = asarray(koala)\n",
    "print(type(im_array))"
   ]
  },
  {
   "cell_type": "code",
   "execution_count": 31,
   "metadata": {},
   "outputs": [
    {
     "output_type": "stream",
     "name": "stdout",
     "text": [
      "[[[ 25  26  12]\n  [ 25  26  12]\n  [ 25  26  12]\n  ...\n  [113 106  52]\n  [113 106  52]\n  [114 107  53]]\n\n [[ 25  26  12]\n  [ 25  26  12]\n  [ 25  26  12]\n  ...\n  [113 106  52]\n  [113 106  52]\n  [114 107  53]]\n\n [[ 25  26  12]\n  [ 25  26  12]\n  [ 25  26  12]\n  ...\n  [112 105  51]\n  [113 106  52]\n  [113 106  52]]\n\n ...\n\n [[139 118  71]\n  [136 115  68]\n  [130 109  62]\n  ...\n  [ 67  91  91]\n  [ 68  89  90]\n  [ 66  88  86]]\n\n [[150 128  81]\n  [143 121  74]\n  [134 111  67]\n  ...\n  [ 73  93  91]\n  [ 69  89  87]\n  [ 65  85  83]]\n\n [[151 127  81]\n  [144 120  74]\n  [135 111  67]\n  ...\n  [ 74  93  91]\n  [ 70  89  85]\n  [ 66  85  81]]]\n"
     ]
    }
   ],
   "source": [
    "print(koala_array)"
   ]
  },
  {
   "cell_type": "code",
   "execution_count": 32,
   "metadata": {},
   "outputs": [],
   "source": [
    "# converting back from array to img\n",
    "converted_koala = Image.fromarray(koala_array)"
   ]
  },
  {
   "cell_type": "code",
   "execution_count": 33,
   "metadata": {},
   "outputs": [
    {
     "output_type": "execute_result",
     "data": {
      "text/plain": [
       "PIL.Image.Image"
      ]
     },
     "metadata": {},
     "execution_count": 33
    }
   ],
   "source": [
    "type(converted_koala)"
   ]
  },
  {
   "cell_type": "code",
   "execution_count": 34,
   "metadata": {},
   "outputs": [],
   "source": [
    "converted_koala.show()"
   ]
  }
 ]
}